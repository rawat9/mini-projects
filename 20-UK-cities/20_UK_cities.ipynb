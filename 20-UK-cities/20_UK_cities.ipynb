{
  "cells": [
    {
      "cell_type": "code",
      "execution_count": null,
      "metadata": {
        "id": "WM865QRZ2_tj"
      },
      "outputs": [],
      "source": [
        "import folium"
      ]
    },
    {
      "cell_type": "code",
      "execution_count": null,
      "metadata": {
        "id": "aG-bb-GiD00n"
      },
      "outputs": [],
      "source": [
        "from io import StringIO\n",
        "import numpy as np\n",
        "import pandas as pd\n",
        "latitude_longitude_csv_str =\\\n",
        "\"\"\"\\\n",
        "city,latitude,longitude\n",
        "London,51.5072,-0.1275\n",
        "Birmingham,52.48,-1.9025\n",
        "Manchester,53.4794,-2.2453\n",
        "Leeds,53.7997,-1.5492\n",
        "Newcastle,55.0077,-1.6578\n",
        "Birstall,52.6736,-1.12\n",
        "Glasgow,55.8609,-4.2514\n",
        "Liverpool,53.4,-2.9833\n",
        "Portsmouth,50.8058,-1.0872\n",
        "Southampton,50.9,-1.4\n",
        "Nottingham,52.95,-1.15\n",
        "Bristol,51.45,-2.5833\n",
        "Sheffield,53.3833,-1.4667\n",
        "Kingston upon Hull,53.7444,-0.3325\n",
        "Leicester,52.6333,-1.1333\n",
        "Edinburgh,55.953,-3.189\n",
        "Caerdydd,51.4833,-3.1833\n",
        "Stoke-on-Trent,53,-2.1833\n",
        "Coventry,52.4081,-1.5106\n",
        "Reading,51.4542,-0.9731\\\n",
        "\"\"\"\n",
        "latitude_longitude_pd = pd.read_csv(StringIO(latitude_longitude_csv_str), index_col='city')\n",
        "latitude_longitude_deg = latitude_longitude_pd[['latitude', 'longitude']].to_numpy()"
      ]
    },
    {
      "cell_type": "code",
      "execution_count": null,
      "metadata": {
        "id": "6pi9UwS5G2wX"
      },
      "outputs": [],
      "source": [
        "def ll_to_distance_matrix(latitude_longitude_deg):\n",
        "    la_lo_rad = np.pi * latitude_longitude_deg / 180.0\n",
        "    la, lo = la_lo_rad[:, 0], la_lo_rad[:, 1]\n",
        "    earth_radius = 6370.0\n",
        "    distance_matrix = earth_radius * np.arccos(np.sin(la[:, np.newaxis]) * np.sin(la[np.newaxis, :]) + np.cos(la[:, np.newaxis]) * np.cos(la[np.newaxis, :]) * np.cos(lo[:, np.newaxis] - lo[np.newaxis, :]))\n",
        "    return distance_matrix"
      ]
    },
    {
      "cell_type": "code",
      "execution_count": null,
      "metadata": {
        "id": "sCADRDrcG18F"
      },
      "outputs": [],
      "source": [
        "from networkx import path_weight, from_numpy_matrix\n",
        "from networkx.algorithms.tree.mst import minimum_spanning_tree\n",
        "from networkx.algorithms.traversal.depth_first_search import dfs_preorder_nodes, dfs_labeled_edges, dfs_edges\n",
        "\n",
        "def get_cities(latitude_longitude_deg, city_list):\n",
        "\n",
        "    # Calculate distance matrix \n",
        "    distance = ll_to_distance_matrix(latitude_longitude_deg)\n",
        "\n",
        "    # Create weighted undirected graph G\n",
        "    G = from_numpy_matrix(distance)\n",
        "\n",
        "    # MST using Kruskal Algorithm\n",
        "    M = minimum_spanning_tree(G, algorithm='kruskal')\n",
        "    \n",
        "    # DFS order of cities\n",
        "    dfs = list(dfs_preorder_nodes(M)) + [0]\n",
        "\n",
        "    # List of vertices (cities)\n",
        "    ordered_city_list = [city_list[vertex] for vertex in dfs]\n",
        "\n",
        "    return ordered_city_list"
      ]
    },
    {
      "cell_type": "code",
      "execution_count": null,
      "metadata": {
        "colab": {
          "base_uri": "https://localhost:8080/",
          "height": 808
        },
        "id": "x__K_D8n3BUa",
        "outputId": "db696cf7-b3e2-4d7b-992b-a0ebc9718f49"
      },
      "outputs": [],
      "source": [
        "# Map\n",
        "m = folium.Map(location=[53, -1], zoom_start=6)\n",
        "\n",
        "# Marker Cluster\n",
        "for city, lat, long in latitude_longitude_pd.itertuples():\n",
        "    folium.Marker(location=[lat, long], tooltip=f'{city}').add_to(m)\n",
        "\n",
        "# Line\n",
        "folium.PolyLine(locations=latitude_longitude_pd.loc[ordered_city_list + ['London']].values).add_to(m)\n",
        "\n",
        "display(m)"
      ]
    },
    {
      "cell_type": "markdown",
      "metadata": {},
      "source": [
        "- Click [here](https://nbviewer.org/github/rawat9/side-projects/blob/main/20-UK-cities/20_UK_cities.ipynb) to view the map"
      ]
    }
  ],
  "metadata": {
    "colab": {
      "collapsed_sections": [],
      "name": "20_UK_cities.ipynb",
      "provenance": []
    },
    "kernelspec": {
      "display_name": "Python 3",
      "name": "python3"
    },
    "language_info": {
      "codemirror_mode": {
        "name": "ipython",
        "version": 3
      },
      "file_extension": ".py",
      "mimetype": "text/x-python",
      "name": "python",
      "nbconvert_exporter": "python",
      "pygments_lexer": "ipython3",
      "version": "3.9.6"
    }
  },
  "nbformat": 4,
  "nbformat_minor": 0
}
